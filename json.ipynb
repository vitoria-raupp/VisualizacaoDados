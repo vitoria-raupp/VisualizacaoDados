{
  "nbformat": 4,
  "nbformat_minor": 0,
  "metadata": {
    "colab": {
      "provenance": [],
      "authorship_tag": "ABX9TyPO48vaAbYc3zJASibTazre",
      "include_colab_link": true
    },
    "kernelspec": {
      "name": "python3",
      "display_name": "Python 3"
    },
    "language_info": {
      "name": "python"
    }
  },
  "cells": [
    {
      "cell_type": "markdown",
      "metadata": {
        "id": "view-in-github",
        "colab_type": "text"
      },
      "source": [
        "<a href=\"https://colab.research.google.com/github/vitoria-raupp/VisualizacaoDados/blob/main/json.ipynb\" target=\"_parent\"><img src=\"https://colab.research.google.com/assets/colab-badge.svg\" alt=\"Open In Colab\"/></a>"
      ]
    },
    {
      "cell_type": "code",
      "execution_count": null,
      "metadata": {
        "id": "24JcqnpPcAXB"
      },
      "outputs": [],
      "source": [
        "import json"
      ]
    },
    {
      "cell_type": "code",
      "source": [
        "fd = open('/content/ExemploJSON.json','r')"
      ],
      "metadata": {
        "id": "uYwgDqSIcDrf"
      },
      "execution_count": null,
      "outputs": []
    },
    {
      "cell_type": "code",
      "source": [
        "dados = json.load(fd)"
      ],
      "metadata": {
        "id": "-dyCWdI1cY4E"
      },
      "execution_count": null,
      "outputs": []
    },
    {
      "cell_type": "code",
      "source": [
        "fd.close()"
      ],
      "metadata": {
        "id": "nJFxScdxcPMl"
      },
      "execution_count": null,
      "outputs": []
    },
    {
      "cell_type": "code",
      "source": [
        "type(dados)"
      ],
      "metadata": {
        "colab": {
          "base_uri": "https://localhost:8080/"
        },
        "id": "RT5UZ795cfeC",
        "outputId": "c6b290e0-cdbe-42ac-88c3-0821d071015f"
      },
      "execution_count": null,
      "outputs": [
        {
          "output_type": "execute_result",
          "data": {
            "text/plain": [
              "dict"
            ]
          },
          "metadata": {},
          "execution_count": 33
        }
      ]
    },
    {
      "cell_type": "code",
      "source": [
        "dados.keys()"
      ],
      "metadata": {
        "colab": {
          "base_uri": "https://localhost:8080/"
        },
        "id": "iw2WAaEXcinb",
        "outputId": "353ecf89-5c8b-4016-ceb6-5f03e15f9115"
      },
      "execution_count": null,
      "outputs": [
        {
          "output_type": "execute_result",
          "data": {
            "text/plain": [
              "dict_keys(['links', 'data', 'included'])"
            ]
          },
          "metadata": {},
          "execution_count": 11
        }
      ]
    },
    {
      "cell_type": "code",
      "source": [
        "dados.values()"
      ],
      "metadata": {
        "colab": {
          "base_uri": "https://localhost:8080/"
        },
        "id": "8s9bS-D4ck9q",
        "outputId": "ec4db23d-8cff-4ed3-8dc9-5a6c9c6838b6"
      },
      "execution_count": null,
      "outputs": [
        {
          "output_type": "execute_result",
          "data": {
            "text/plain": [
              "dict_values([{'self': 'http://example.com/articles', 'next': 'http://example.com/articles?page[offset]=2', 'last': 'http://example.com/articles?page[offset]=10'}, [{'type': 'articles', 'id': '1', 'attributes': {'title': 'JSON:API paints my bikeshed!'}, 'relationships': {'author': {'links': {'self': 'http://example.com/articles/1/relationships/author', 'related': 'http://example.com/articles/1/author'}, 'data': {'type': 'people', 'id': '9'}}, 'comments': {'links': {'self': 'http://example.com/articles/1/relationships/comments', 'related': 'http://example.com/articles/1/comments'}, 'data': [{'type': 'comments', 'id': '5'}, {'type': 'comments', 'id': '12'}]}}, 'links': {'self': 'http://example.com/articles/1'}}], [{'type': 'people', 'id': '9', 'attributes': {'firstName': 'Dan', 'lastName': 'Gebhardt', 'twitter': 'dgeb'}, 'links': {'self': 'http://example.com/people/9'}}, {'type': 'comments', 'id': '5', 'attributes': {'body': 'First!'}, 'relationships': {'author': {'data': {'type': 'people', 'id': '2'}}}, 'links': {'self': 'http://example.com/comments/5'}}, {'type': 'comments', 'id': '12', 'attributes': {'body': 'I like XML better'}, 'relationships': {'author': {'data': {'type': 'people', 'id': '9'}}}, 'links': {'self': 'http://example.com/comments/12'}}]])"
            ]
          },
          "metadata": {},
          "execution_count": 7
        }
      ]
    },
    {
      "cell_type": "code",
      "source": [
        "dados['links']"
      ],
      "metadata": {
        "colab": {
          "base_uri": "https://localhost:8080/"
        },
        "id": "VZ85VQWZcm2P",
        "outputId": "aadeaaf8-ba07-4933-8b43-b90c150bc0ad"
      },
      "execution_count": null,
      "outputs": [
        {
          "output_type": "execute_result",
          "data": {
            "text/plain": [
              "{'self': 'http://example.com/articles',\n",
              " 'next': 'http://example.com/articles?page[offset]=2',\n",
              " 'last': 'http://example.com/articles?page[offset]=10'}"
            ]
          },
          "metadata": {},
          "execution_count": 14
        }
      ]
    },
    {
      "cell_type": "code",
      "source": [
        "type(dados['data'])"
      ],
      "metadata": {
        "colab": {
          "base_uri": "https://localhost:8080/"
        },
        "id": "J9RaIYCdcpBT",
        "outputId": "fb316ba7-0bba-4d9b-d682-300c6c5f08bf"
      },
      "execution_count": null,
      "outputs": [
        {
          "output_type": "execute_result",
          "data": {
            "text/plain": [
              "list"
            ]
          },
          "metadata": {},
          "execution_count": 15
        }
      ]
    },
    {
      "cell_type": "code",
      "source": [
        "len(dados['data'])"
      ],
      "metadata": {
        "colab": {
          "base_uri": "https://localhost:8080/"
        },
        "id": "kMFpkILQcsxD",
        "outputId": "2b9bbbbd-9597-4592-ed6d-70a35d2a0dcd"
      },
      "execution_count": null,
      "outputs": [
        {
          "output_type": "execute_result",
          "data": {
            "text/plain": [
              "1"
            ]
          },
          "metadata": {},
          "execution_count": 16
        }
      ]
    },
    {
      "cell_type": "code",
      "source": [
        "dados['data'][0]"
      ],
      "metadata": {
        "colab": {
          "base_uri": "https://localhost:8080/"
        },
        "id": "N3dEfs3KcwGn",
        "outputId": "aec81da3-2077-43b1-d964-e0b32647bb45"
      },
      "execution_count": null,
      "outputs": [
        {
          "output_type": "execute_result",
          "data": {
            "text/plain": [
              "{'type': 'articles',\n",
              " 'id': '1',\n",
              " 'attributes': {'title': 'JSON:API paints my bikeshed!'},\n",
              " 'relationships': {'author': {'links': {'self': 'http://example.com/articles/1/relationships/author',\n",
              "    'related': 'http://example.com/articles/1/author'},\n",
              "   'data': {'type': 'people', 'id': '9'}},\n",
              "  'comments': {'links': {'self': 'http://example.com/articles/1/relationships/comments',\n",
              "    'related': 'http://example.com/articles/1/comments'},\n",
              "   'data': [{'type': 'comments', 'id': '5'},\n",
              "    {'type': 'comments', 'id': '12'}]}},\n",
              " 'links': {'self': 'http://example.com/articles/1'}}"
            ]
          },
          "metadata": {},
          "execution_count": 17
        }
      ]
    },
    {
      "cell_type": "code",
      "source": [
        "type(dados['data'][0])"
      ],
      "metadata": {
        "colab": {
          "base_uri": "https://localhost:8080/"
        },
        "id": "Jx8wNip6c1ZE",
        "outputId": "44fce04d-3961-40ba-d6a7-d4de66e498f5"
      },
      "execution_count": null,
      "outputs": [
        {
          "output_type": "execute_result",
          "data": {
            "text/plain": [
              "dict"
            ]
          },
          "metadata": {},
          "execution_count": 18
        }
      ]
    },
    {
      "cell_type": "code",
      "source": [
        "dados['data'] = dados['data'][0]"
      ],
      "metadata": {
        "id": "O1pjwcWHc5zG"
      },
      "execution_count": null,
      "outputs": []
    },
    {
      "cell_type": "code",
      "source": [
        "dados['data'].keys()"
      ],
      "metadata": {
        "colab": {
          "base_uri": "https://localhost:8080/"
        },
        "id": "D9uuQMj0eAAP",
        "outputId": "7cc31d83-dd71-47f2-eac3-d490cc779ad1"
      },
      "execution_count": null,
      "outputs": [
        {
          "output_type": "execute_result",
          "data": {
            "text/plain": [
              "dict_keys(['type', 'id', 'attributes', 'relationships', 'links'])"
            ]
          },
          "metadata": {},
          "execution_count": 35
        }
      ]
    },
    {
      "cell_type": "code",
      "source": [
        "dados['data']['type']"
      ],
      "metadata": {
        "colab": {
          "base_uri": "https://localhost:8080/",
          "height": 35
        },
        "id": "0Vb2bh-HeDr5",
        "outputId": "03cbd81c-0e7f-40cf-983a-afcd8c7d9963"
      },
      "execution_count": null,
      "outputs": [
        {
          "output_type": "execute_result",
          "data": {
            "text/plain": [
              "'articles'"
            ],
            "application/vnd.google.colaboratory.intrinsic+json": {
              "type": "string"
            }
          },
          "metadata": {},
          "execution_count": 37
        }
      ]
    },
    {
      "cell_type": "code",
      "source": [
        "dados['data']['attributes']"
      ],
      "metadata": {
        "colab": {
          "base_uri": "https://localhost:8080/"
        },
        "id": "wzhewhU_eGaE",
        "outputId": "bb0afab0-97c1-4206-e659-2ed4abd72427"
      },
      "execution_count": null,
      "outputs": [
        {
          "output_type": "execute_result",
          "data": {
            "text/plain": [
              "{'title': 'JSON:API paints my bikeshed!'}"
            ]
          },
          "metadata": {},
          "execution_count": 39
        }
      ]
    },
    {
      "cell_type": "code",
      "source": [
        "dados['data']['attributes']['title']"
      ],
      "metadata": {
        "colab": {
          "base_uri": "https://localhost:8080/",
          "height": 35
        },
        "id": "G2GXIIBreKPn",
        "outputId": "8e4e062a-0a71-4392-f78e-88116fb8e285"
      },
      "execution_count": null,
      "outputs": [
        {
          "output_type": "execute_result",
          "data": {
            "text/plain": [
              "'JSON:API paints my bikeshed!'"
            ],
            "application/vnd.google.colaboratory.intrinsic+json": {
              "type": "string"
            }
          },
          "metadata": {},
          "execution_count": 40
        }
      ]
    }
  ]
}