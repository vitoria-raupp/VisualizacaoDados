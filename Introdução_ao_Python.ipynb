{
  "nbformat": 4,
  "nbformat_minor": 0,
  "metadata": {
    "colab": {
      "provenance": [],
      "authorship_tag": "ABX9TyO+FZrwQbncvsE5Pdo53kjr",
      "include_colab_link": true
    },
    "kernelspec": {
      "name": "python3",
      "display_name": "Python 3"
    },
    "language_info": {
      "name": "python"
    }
  },
  "cells": [
    {
      "cell_type": "markdown",
      "metadata": {
        "id": "view-in-github",
        "colab_type": "text"
      },
      "source": [
        "<a href=\"https://colab.research.google.com/github/vitoria-raupp/VisualizacaoDados/blob/main/Introdu%C3%A7%C3%A3o_ao_Python.ipynb\" target=\"_parent\"><img src=\"https://colab.research.google.com/assets/colab-badge.svg\" alt=\"Open In Colab\"/></a>"
      ]
    },
    {
      "cell_type": "markdown",
      "source": [
        "**Tarefa introdução a Pyhton - Vitória Raupp Adão**"
      ],
      "metadata": {
        "id": "Q2g_wa5t0-_9"
      }
    },
    {
      "cell_type": "markdown",
      "source": [
        "*Função que determina se o numero é positivo ou negativo*"
      ],
      "metadata": {
        "id": "zqTfz41RCf6e"
      }
    },
    {
      "cell_type": "code",
      "execution_count": null,
      "metadata": {
        "id": "R5XAiy28CTvD",
        "colab": {
          "base_uri": "https://localhost:8080/"
        },
        "outputId": "6f6b9395-e641-4b9c-f4fa-65234c5b70b3"
      },
      "outputs": [
        {
          "output_type": "stream",
          "name": "stdout",
          "text": [
            "digite um valor: -1\n",
            "Número negativo\n"
          ]
        }
      ],
      "source": [
        "numero = int(input('digite um valor: '))\n",
        "\n",
        "if (numero > 0):\n",
        "  print('Número positivo')\n",
        "elif (numero < 0):\n",
        "  print('Número negativo')\n",
        "else: \n",
        "  print('Número igual a 0')"
      ]
    },
    {
      "cell_type": "markdown",
      "source": [
        "*Função para determinar se um número é \n",
        "primo ou não*\n",
        "\n",
        "\n"
      ],
      "metadata": {
        "id": "rBxJG5o1DCdQ"
      }
    },
    {
      "cell_type": "code",
      "source": [
        "numero = int(input(\"Digite um número: \"))\n",
        "\n",
        "if numero > 1:\n",
        "    for i in range(2, numero):\n",
        "        if (numero % i) == 0:\n",
        "            print(numero, \"não é um número primo\")\n",
        "            break\n",
        "    else:\n",
        "        print(numero, \"é um número primo\")\n",
        "else:\n",
        "    print(numero, \"não é um número primo\")\n"
      ],
      "metadata": {
        "id": "kVW2rBwUCepZ",
        "colab": {
          "base_uri": "https://localhost:8080/"
        },
        "outputId": "0e29a4e4-4adb-4416-beb7-825062bb78be"
      },
      "execution_count": null,
      "outputs": [
        {
          "output_type": "stream",
          "name": "stdout",
          "text": [
            "Digite um número: 2\n",
            "2 é um número primo\n"
          ]
        }
      ]
    },
    {
      "cell_type": "markdown",
      "source": [
        "*Escreva um programa que recebe 3 números como entrada, e informe qual é meior ou menor*\n"
      ],
      "metadata": {
        "id": "dDPVfTUCDMot"
      }
    },
    {
      "cell_type": "code",
      "source": [
        "num1 = float(input(\"Digite o primeiro número: \"))\n",
        "num2 = float(input(\"Digite o segundo número: \"))\n",
        "num3 = float(input(\"Digite o terceiro número: \"))\n",
        "\n",
        "maior = num1\n",
        "if num2 > maior:\n",
        "    maior = num2\n",
        "if num3 > maior:\n",
        "    maior = num3\n",
        "\n",
        "menor = num1\n",
        "if num2 < menor:\n",
        "    menor = num2\n",
        "if num3 < menor:\n",
        "    menor = num3\n",
        "\n",
        "print(\"O maior número é\", maior)\n",
        "print(\"O menor número é\", menor)\n"
      ],
      "metadata": {
        "id": "Vt22HxqvDhTo",
        "colab": {
          "base_uri": "https://localhost:8080/"
        },
        "outputId": "09ad9cff-7fae-424a-ecda-8b64162007ad"
      },
      "execution_count": null,
      "outputs": [
        {
          "output_type": "stream",
          "name": "stdout",
          "text": [
            "Digite o primeiro número: 10\n",
            "Digite o segundo número: 5\n",
            "Digite o terceiro número: 2\n",
            "O maior número é 10.0\n",
            "O menor número é 2.0\n"
          ]
        }
      ]
    },
    {
      "cell_type": "markdown",
      "source": [
        "*Crie uma calucadora em Python*"
      ],
      "metadata": {
        "id": "YX2nrxWgDgv1"
      }
    },
    {
      "cell_type": "code",
      "source": [
        "import math\n",
        "\n",
        "num1 = input('Digite um numero :  ')\n",
        "if num1 == \"pi\":\n",
        "    num1=float(math.pi)\n",
        "else: \n",
        "    num1 = float(num1)\n",
        "\n",
        "print('''Escolha a operação: \n",
        "[ 1 ] Adição\n",
        "[ 2 ] Subtração\n",
        "[ 3 ] Multiplicação\n",
        "[ 4 ] Divisão\n",
        "[ 5 ] Potenciação \n",
        "[ 6 ] Média aritmética \n",
        "[ 7 ] Raiz quadrada\n",
        "[ 8 ] Cosseno \n",
        "[ 9 ] Seno\n",
        "[ 10 ] Tangente \n",
        " ''')\n",
        "opcao = int(input('Sua opção: '))\n",
        "\n",
        "if opcao == 1:\n",
        "    num2 = float(input('Digite outro número:  '))\n",
        "    print('A soma dos números digitados resulta em: ' ,num1 + num2 )\n",
        "elif opcao == 2: \n",
        "    num2 = float(input('Digite outro número:  '))\n",
        "    print('A subtração dos números digitados resulta em: ' ,num1 - num2)\n",
        "elif opcao == 3: \n",
        "    num2 = float(input('Digite outro número:  '))\n",
        "    print('A multiplicação dos números digitados resulta em: ' ,num1 * num2)\n",
        "elif opcao == 4: \n",
        "    num2 = float(input('Digite outro número : '))\n",
        "    print('A divisão dos números digitados resulta em: ', num1 / num2 )\n",
        "elif opcao == 5:\n",
        "    int(num1)\n",
        "    num2 = int(input('Digite o expoente : '))\n",
        "    print('O resultado da potenciação é : ',num1 ** num2)\n",
        "elif opcao == 6: \n",
        "    num2 = float(input('Digite outro numero : '))\n",
        "    print('A média aritmétrica resulta em : ',(num1+num2)/2)\n",
        "elif opcao == 7:\n",
        "    print('A raiz quadrada do número digitado é: ' ,math.sqrt(num1))\n",
        "elif opcao == 8:\n",
        "    c= math.cos(num1)\n",
        "    print('O cosseno do número digitado é: ',c)\n",
        "elif opcao == 9:\n",
        "    s = math.sin(num1)\n",
        "    print('O seno do numero digitado é: ',s)\n",
        "elif opcao == 10: \n",
        "    t = math.tan(num1)\n",
        "    print('A tangente do número digitado é: ',t)\n",
        "else: \n",
        "    print('Opção invalida, digite um número entre as opções ')"
      ],
      "metadata": {
        "colab": {
          "base_uri": "https://localhost:8080/"
        },
        "id": "Ehiy0Zy-Dt2p",
        "outputId": "db1aba5f-3cbe-4c51-e293-e98a73ac785b"
      },
      "execution_count": null,
      "outputs": [
        {
          "output_type": "stream",
          "name": "stdout",
          "text": [
            "Digite um numero :  10\n",
            "Escolha a operação: \n",
            "[ 1 ] Adição\n",
            "[ 2 ] Subtração\n",
            "[ 3 ] Multiplicação\n",
            "[ 4 ] Divisão\n",
            "[ 5 ] Potenciação \n",
            "[ 6 ] Média aritmética \n",
            "[ 7 ] Raiz quadrada\n",
            "[ 8 ] Cosseno \n",
            "[ 9 ] Seno\n",
            "[ 10 ] Tangente \n",
            " \n",
            "Sua opção: 2\n",
            "Digite outro número:  4\n",
            "A subtração dos números digitados resulta em:  6.0\n"
          ]
        }
      ]
    }
  ]
}