{
  "nbformat": 4,
  "nbformat_minor": 0,
  "metadata": {
    "colab": {
      "provenance": [],
      "authorship_tag": "ABX9TyP7EDPfakUgUwSeEwgcsOEy",
      "include_colab_link": true
    },
    "kernelspec": {
      "name": "python3",
      "display_name": "Python 3"
    },
    "language_info": {
      "name": "python"
    }
  },
  "cells": [
    {
      "cell_type": "markdown",
      "metadata": {
        "id": "view-in-github",
        "colab_type": "text"
      },
      "source": [
        "<a href=\"https://colab.research.google.com/github/vitoria-raupp/VisualizacaoDados/blob/main/DadosXML.ipynb\" target=\"_parent\"><img src=\"https://colab.research.google.com/assets/colab-badge.svg\" alt=\"Open In Colab\"/></a>"
      ]
    },
    {
      "cell_type": "code",
      "execution_count": null,
      "metadata": {
        "id": "113avTwxQjw4"
      },
      "outputs": [],
      "source": [
        "import xml.etree.ElementTree as et"
      ]
    },
    {
      "cell_type": "code",
      "source": [
        "arquivo = et.parse('/Exemplo.xml')"
      ],
      "metadata": {
        "id": "PU0I0QZtRweI"
      },
      "execution_count": null,
      "outputs": []
    },
    {
      "cell_type": "code",
      "source": [
        "root = arquivo.getroot()\n",
        "print(root)"
      ],
      "metadata": {
        "colab": {
          "base_uri": "https://localhost:8080/"
        },
        "id": "CwKNq424SFNj",
        "outputId": "ae4bd412-c306-4f82-dd51-2b4e8218c021"
      },
      "execution_count": null,
      "outputs": [
        {
          "output_type": "stream",
          "name": "stdout",
          "text": [
            "<Element 'metadata' at 0x7f063e551e50>\n"
          ]
        }
      ]
    },
    {
      "cell_type": "code",
      "source": [
        "print(arquivo)"
      ],
      "metadata": {
        "colab": {
          "base_uri": "https://localhost:8080/"
        },
        "id": "xRYPkSiZS4sd",
        "outputId": "0016bfa6-9339-49b4-d550-93df6c08758a"
      },
      "execution_count": null,
      "outputs": [
        {
          "output_type": "stream",
          "name": "stdout",
          "text": [
            "<xml.etree.ElementTree.ElementTree object at 0x7f063e55cd30>\n"
          ]
        }
      ]
    },
    {
      "cell_type": "code",
      "source": [
        "root.tag"
      ],
      "metadata": {
        "colab": {
          "base_uri": "https://localhost:8080/",
          "height": 35
        },
        "id": "V-_iG1E5S68J",
        "outputId": "8ed18125-212f-4507-91f1-e450b8b42d79"
      },
      "execution_count": null,
      "outputs": [
        {
          "output_type": "execute_result",
          "data": {
            "text/plain": [
              "'metadata'"
            ],
            "application/vnd.google.colaboratory.intrinsic+json": {
              "type": "string"
            }
          },
          "metadata": {},
          "execution_count": 12
        }
      ]
    },
    {
      "cell_type": "code",
      "source": [
        "root.attrib\n"
      ],
      "metadata": {
        "colab": {
          "base_uri": "https://localhost:8080/"
        },
        "id": "GUjV2ohLS9rY",
        "outputId": "139c9af6-a67d-4896-e1bd-ec0b4ce2bebe"
      },
      "execution_count": null,
      "outputs": [
        {
          "output_type": "execute_result",
          "data": {
            "text/plain": [
              "{'dataCriacao': '20/11/2050'}"
            ]
          },
          "metadata": {},
          "execution_count": 13
        }
      ]
    },
    {
      "cell_type": "code",
      "source": [
        "print(root[0])"
      ],
      "metadata": {
        "colab": {
          "base_uri": "https://localhost:8080/"
        },
        "id": "JYDxPXpxTBCN",
        "outputId": "ce6a28f0-1266-4ef9-ed02-8d73747e7d19"
      },
      "execution_count": null,
      "outputs": [
        {
          "output_type": "stream",
          "name": "stdout",
          "text": [
            "<Element 'food' at 0x7f063e551d10>\n"
          ]
        }
      ]
    },
    {
      "cell_type": "code",
      "source": [
        "print(root[0].tag)"
      ],
      "metadata": {
        "colab": {
          "base_uri": "https://localhost:8080/"
        },
        "id": "CaFycO6lTEUB",
        "outputId": "a81dec45-c828-4083-97a9-d2c95287d442"
      },
      "execution_count": null,
      "outputs": [
        {
          "output_type": "stream",
          "name": "stdout",
          "text": [
            "food\n"
          ]
        }
      ]
    },
    {
      "cell_type": "code",
      "source": [
        "print(root[0].attrib)"
      ],
      "metadata": {
        "colab": {
          "base_uri": "https://localhost:8080/"
        },
        "id": "G6MpPFKvTKEh",
        "outputId": "15c04e1f-5052-478a-c13b-969d87c1b93d"
      },
      "execution_count": null,
      "outputs": [
        {
          "output_type": "stream",
          "name": "stdout",
          "text": [
            "{}\n"
          ]
        }
      ]
    },
    {
      "cell_type": "code",
      "source": [
        "for i in root[0]:\n",
        "  print(i.tag, i.attrib, i.text) "
      ],
      "metadata": {
        "colab": {
          "base_uri": "https://localhost:8080/"
        },
        "id": "DF94Qs2kTMdX",
        "outputId": "87f5bae8-2bef-43a8-96e5-602dfa256517"
      },
      "execution_count": null,
      "outputs": [
        {
          "output_type": "stream",
          "name": "stdout",
          "text": [
            "item {}  Bacon \n",
            "preco {}  R$ 15,89 \n",
            "descricao {}  Melhor comida! \n"
          ]
        }
      ]
    },
    {
      "cell_type": "code",
      "source": [
        "for i in root.findall('food'):\n",
        "  print(i.find('item').text)\n",
        "  print(i.find('descricao').text) "
      ],
      "metadata": {
        "colab": {
          "base_uri": "https://localhost:8080/"
        },
        "id": "JuuBQ-e9Tdkk",
        "outputId": "b5c5b4eb-91d4-4956-87ce-ca63aedcf2e2"
      },
      "execution_count": null,
      "outputs": [
        {
          "output_type": "stream",
          "name": "stdout",
          "text": [
            " Bacon \n",
            " Melhor comida! \n",
            " Milshake de Bacon \n",
            " Iguaria das melhores \n"
          ]
        }
      ]
    }
  ]
}