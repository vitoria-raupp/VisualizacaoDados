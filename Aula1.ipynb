{
  "nbformat": 4,
  "nbformat_minor": 0,
  "metadata": {
    "colab": {
      "provenance": [],
      "authorship_tag": "ABX9TyOEJVAObfFGzNZafDwMAJCa",
      "include_colab_link": true
    },
    "kernelspec": {
      "name": "python3",
      "display_name": "Python 3"
    },
    "language_info": {
      "name": "python"
    }
  },
  "cells": [
    {
      "cell_type": "markdown",
      "metadata": {
        "id": "view-in-github",
        "colab_type": "text"
      },
      "source": [
        "<a href=\"https://colab.research.google.com/github/vitoria-raupp/VisualizacaoDados/blob/main/Aula1.ipynb\" target=\"_parent\"><img src=\"https://colab.research.google.com/assets/colab-badge.svg\" alt=\"Open In Colab\"/></a>"
      ]
    },
    {
      "cell_type": "markdown",
      "source": [
        "**Exemplo 1**\n"
      ],
      "metadata": {
        "id": "m57cWrNv5ThO"
      }
    },
    {
      "cell_type": "code",
      "execution_count": null,
      "metadata": {
        "colab": {
          "base_uri": "https://localhost:8080/"
        },
        "id": "lDi0YkDd29NP",
        "outputId": "8ecc17d3-655c-4bf3-8f96-b2ba2bf86bea"
      },
      "outputs": [
        {
          "output_type": "stream",
          "name": "stdout",
          "text": [
            "valor: 4\n",
            "numero par\n"
          ]
        }
      ],
      "source": [
        "numero1 = input(\"valor: \")\n",
        "numero1 = int(numero1)\n",
        "resto = numero1 % 2\n",
        "if(resto == 0):\n",
        "  print(\"numero par\")\n",
        "else: \n",
        "  print(\"numero impar\")"
      ]
    },
    {
      "cell_type": "markdown",
      "source": [
        "**Exemplo 2** "
      ],
      "metadata": {
        "id": "HiiW2mfP32ky"
      }
    },
    {
      "cell_type": "code",
      "source": [
        "nota = input(\"Digite a nota:\")\n",
        "nota = float(nota)\n",
        "if(nota >= 5.75):\n",
        "  print(\"Aprovado\")\n",
        "elif(nota >= 3.5):\n",
        "  print(\"Exame\")\n",
        "else:\n",
        "  print(\"reprovado\")"
      ],
      "metadata": {
        "colab": {
          "base_uri": "https://localhost:8080/"
        },
        "id": "t_TwwOZB34pu",
        "outputId": "34b957d7-c4af-4b89-e7dc-9a595cf72401"
      },
      "execution_count": null,
      "outputs": [
        {
          "output_type": "stream",
          "name": "stdout",
          "text": [
            "Digite a nota:6\n",
            "Aprovado\n"
          ]
        }
      ]
    },
    {
      "cell_type": "markdown",
      "source": [
        "**Exemplo 3**"
      ],
      "metadata": {
        "id": "BD6pCi4J7LPC"
      }
    },
    {
      "cell_type": "code",
      "source": [
        "nome = \"Visualização de dados\"\n",
        "nome.startswith(\"Vis\")"
      ],
      "metadata": {
        "colab": {
          "base_uri": "https://localhost:8080/"
        },
        "id": "D1b8fiEB6vJr",
        "outputId": "228ee3f8-93b5-4772-f59e-e6d3ac97665b"
      },
      "execution_count": null,
      "outputs": [
        {
          "output_type": "execute_result",
          "data": {
            "text/plain": [
              "True"
            ]
          },
          "metadata": {},
          "execution_count": 6
        }
      ]
    }
  ]
}