{
  "nbformat": 4,
  "nbformat_minor": 0,
  "metadata": {
    "colab": {
      "provenance": [],
      "authorship_tag": "ABX9TyN2WjHRG/OzYuiAZfRZo+s5",
      "include_colab_link": true
    },
    "kernelspec": {
      "name": "python3",
      "display_name": "Python 3"
    },
    "language_info": {
      "name": "python"
    }
  },
  "cells": [
    {
      "cell_type": "markdown",
      "metadata": {
        "id": "view-in-github",
        "colab_type": "text"
      },
      "source": [
        "<a href=\"https://colab.research.google.com/github/vitoria-raupp/VisualizacaoDados/blob/main/Tarefa_aula_7.ipynb\" target=\"_parent\"><img src=\"https://colab.research.google.com/assets/colab-badge.svg\" alt=\"Open In Colab\"/></a>"
      ]
    },
    {
      "cell_type": "markdown",
      "source": [
        "1 - Pesquise a diferença entre as estruturas apresentadas"
      ],
      "metadata": {
        "id": "tdYm7Bjdyro-"
      }
    },
    {
      "cell_type": "code",
      "source": [
        "# Conjuntos: uma coleção de elementos distintos \n",
        "# Dicionários: Associam valores com chaves permitindo uma rápida recuperação do valor a partir da chave \n",
        "# Indexação: acessar os registros pelo índicie  \n",
        "# Fatiamento: extrair uma porção delimitada de um dado\n",
        "# Ordenação: metodo que ordena elementos\n",
        "# Randomização: gerar numeros aleatórios utilizando modulo random \n"
      ],
      "metadata": {
        "id": "Dkk-v9Th7DL9"
      },
      "execution_count": null,
      "outputs": []
    },
    {
      "cell_type": "markdown",
      "source": [
        "2 - Crie um dicionário chave/valor. Onde a chave seja o nome do aluno e o valor o numero da matricula\n",
        " "
      ],
      "metadata": {
        "id": "JUGUY0f_yrz7"
      }
    },
    {
      "cell_type": "code",
      "source": [
        "alunos = {\n",
        "    'Gabriel': 21202345,\n",
        "    'Pamela': 21207890,\n",
        "    'Pedro': 21204321,\n",
        "    'Leandro': 21204582,\n",
        "    'Ana': 21208765 }\n",
        "\n",
        "print(alunos)"
      ],
      "metadata": {
        "colab": {
          "base_uri": "https://localhost:8080/"
        },
        "id": "0FmBPUJo7DqX",
        "outputId": "402c25a7-cfe4-41fd-d655-07418cb089b8"
      },
      "execution_count": 11,
      "outputs": [
        {
          "output_type": "stream",
          "name": "stdout",
          "text": [
            "{'Gabriel': 21202345, 'Pamela': 21207890, 'Pedro': 21204321, 'Leandro': 21204582, 'Ana': 21208765}\n"
          ]
        }
      ]
    },
    {
      "cell_type": "markdown",
      "source": [
        "3 - Crie um conjunto com 10 posições. Crie ainda um segundo conjunto e obtenha a diferença e a intersecção entre os conjuntos"
      ],
      "metadata": {
        "id": "N6_X2_0Kyr2I"
      }
    },
    {
      "cell_type": "code",
      "source": [
        "conjunto = set()\n",
        "type(conjunto)\n",
        "conjunto = {1,2,3,4,5,6,7,8,9,10}\n",
        "conjunto1 = {2,4,6,8,10,12,14,16,18,20}\n",
        "\n",
        "conjunto.difference(conjunto1)"
      ],
      "metadata": {
        "colab": {
          "base_uri": "https://localhost:8080/"
        },
        "id": "0_SeOQlB7Emq",
        "outputId": "e4f206f4-c322-4427-8005-d72ee48d366d"
      },
      "execution_count": null,
      "outputs": [
        {
          "output_type": "execute_result",
          "data": {
            "text/plain": [
              "{1, 3, 5, 7, 9}"
            ]
          },
          "metadata": {},
          "execution_count": 5
        }
      ]
    },
    {
      "cell_type": "code",
      "source": [
        "conjunto1.difference(conjunto)\n"
      ],
      "metadata": {
        "colab": {
          "base_uri": "https://localhost:8080/"
        },
        "id": "r5vQbcrUiHSm",
        "outputId": "3dc4f1aa-1977-4d66-c14d-b914f1b1e979"
      },
      "execution_count": null,
      "outputs": [
        {
          "output_type": "execute_result",
          "data": {
            "text/plain": [
              "{12, 14, 16, 18, 20}"
            ]
          },
          "metadata": {},
          "execution_count": 6
        }
      ]
    },
    {
      "cell_type": "code",
      "source": [
        "conjunto.intersection(conjunto1)"
      ],
      "metadata": {
        "colab": {
          "base_uri": "https://localhost:8080/"
        },
        "id": "gjSzUBy6ic-H",
        "outputId": "993cc4ac-b33f-4555-f642-524a7e272836"
      },
      "execution_count": null,
      "outputs": [
        {
          "output_type": "execute_result",
          "data": {
            "text/plain": [
              "{2, 4, 6, 8, 10}"
            ]
          },
          "metadata": {},
          "execution_count": 7
        }
      ]
    },
    {
      "cell_type": "code",
      "source": [
        "conjunto1.intersection(conjunto)"
      ],
      "metadata": {
        "colab": {
          "base_uri": "https://localhost:8080/"
        },
        "id": "fBZevFPbijN4",
        "outputId": "9bda7da7-41d8-4d2a-b7a9-787f30c20a51"
      },
      "execution_count": null,
      "outputs": [
        {
          "output_type": "execute_result",
          "data": {
            "text/plain": [
              "{2, 4, 6, 8, 10}"
            ]
          },
          "metadata": {},
          "execution_count": 8
        }
      ]
    },
    {
      "cell_type": "markdown",
      "source": [
        "4 - Crie um dicionário com 5 posições, cada chave é representado pelo nome do aluno e cada valor é representado por uma nota do aluno. Ao final apresente a média das notas dos alunos.\n",
        "\n"
      ],
      "metadata": {
        "id": "RNKpZljQyr5q"
      }
    },
    {
      "cell_type": "code",
      "execution_count": null,
      "metadata": {
        "colab": {
          "base_uri": "https://localhost:8080/"
        },
        "id": "BeEoSVokymDT",
        "outputId": "ec0cbc7c-4786-4382-ce06-4b38d8caabe4"
      },
      "outputs": [
        {
          "output_type": "stream",
          "name": "stdout",
          "text": [
            "Média das notas dos alunos: 8.2\n"
          ]
        },
        {
          "output_type": "execute_result",
          "data": {
            "text/plain": [
              "dict"
            ]
          },
          "metadata": {},
          "execution_count": 10
        }
      ],
      "source": [
        "alunos_notas = {\n",
        "    \"Jonas\": 8.5,\n",
        "    \"Henrique\": 8,\n",
        "    \"Laura\": 6.8,\n",
        "    \"Ana\": 9.8,\n",
        "    \"Lucas\": 7.9\n",
        "}\n",
        "\n",
        "notas = alunos_notas.values()\n",
        "media = sum(notas) / len(notas)\n",
        "\n",
        "print(\"Média das notas dos alunos:\", media)\n",
        "\n",
        "type(alunos_notas)"
      ]
    }
  ]
}