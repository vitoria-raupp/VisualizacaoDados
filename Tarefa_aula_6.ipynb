{
  "nbformat": 4,
  "nbformat_minor": 0,
  "metadata": {
    "colab": {
      "provenance": [],
      "authorship_tag": "ABX9TyPBJXVf27/c/pQI1GM94BDx",
      "include_colab_link": true
    },
    "kernelspec": {
      "name": "python3",
      "display_name": "Python 3"
    },
    "language_info": {
      "name": "python"
    }
  },
  "cells": [
    {
      "cell_type": "markdown",
      "metadata": {
        "id": "view-in-github",
        "colab_type": "text"
      },
      "source": [
        "<a href=\"https://colab.research.google.com/github/vitoria-raupp/VisualizacaoDados/blob/main/Tarefa_aula_6.ipynb\" target=\"_parent\"><img src=\"https://colab.research.google.com/assets/colab-badge.svg\" alt=\"Open In Colab\"/></a>"
      ]
    },
    {
      "cell_type": "markdown",
      "source": [
        "1 - Pesquise a diferença entre as estruturas apresentadas e quando deve-se utilizar cada uma.\n"
      ],
      "metadata": {
        "id": "3StZAIsMy1WN"
      }
    },
    {
      "cell_type": "code",
      "execution_count": null,
      "metadata": {
        "id": "cK9D5-exyk3N"
      },
      "outputs": [],
      "source": [
        "# Listas são muatveis e sujeitas a alterações diversas com código, como mostrado na atividade 2\n",
        "# Tuplas são imutaveis e inalteraveis  "
      ]
    },
    {
      "cell_type": "markdown",
      "source": [
        "2 - Crie uma lista com 10 posições. Remova a primeira e a última. Insira uma nova lista ao final da estrurura. "
      ],
      "metadata": {
        "id": "Ssuo7SELzMMJ"
      }
    },
    {
      "cell_type": "code",
      "source": [
        "import numpy as np\n",
        "\n",
        "lista = [1,2,3,4,5,6,7,8,9,10]\n",
        "lista2 = [11,12,13,14,15]\n",
        "lista.remove(1)\n",
        "lista.pop()\n",
        "# .exented não funcionou :/\n",
        "lista.append(lista2)\n",
        "print(lista)"
      ],
      "metadata": {
        "id": "nihDj089zfTF",
        "colab": {
          "base_uri": "https://localhost:8080/"
        },
        "outputId": "1467963c-619f-4b58-bead-db950b7f898a"
      },
      "execution_count": 14,
      "outputs": [
        {
          "output_type": "stream",
          "name": "stdout",
          "text": [
            "[2, 3, 4, 5, 6, 7, 8, 9, (11, 12, 13, 14, 15)]\n"
          ]
        }
      ]
    },
    {
      "cell_type": "markdown",
      "source": [
        " 3- Crie uma tupla com 4 possições "
      ],
      "metadata": {
        "id": "15UGHjBAzf7S"
      }
    },
    {
      "cell_type": "code",
      "source": [
        "tupla = (1, 'a', 3,'B')\n",
        "type(tupla)\n"
      ],
      "metadata": {
        "id": "-1Hf0SiJzlWk",
        "colab": {
          "base_uri": "https://localhost:8080/"
        },
        "outputId": "494c148a-a91a-4a5a-acea-3eb4ce912171"
      },
      "execution_count": 18,
      "outputs": [
        {
          "output_type": "execute_result",
          "data": {
            "text/plain": [
              "tuple"
            ]
          },
          "metadata": {},
          "execution_count": 18
        }
      ]
    },
    {
      "cell_type": "code",
      "source": [
        "print(tupla)"
      ],
      "metadata": {
        "colab": {
          "base_uri": "https://localhost:8080/"
        },
        "id": "IEtK8QufuZo1",
        "outputId": "90b6c34b-2e4e-4b5d-f09f-776442470116"
      },
      "execution_count": 19,
      "outputs": [
        {
          "output_type": "stream",
          "name": "stdout",
          "text": [
            "(1, 'a', 3, 'B')\n"
          ]
        }
      ]
    },
    {
      "cell_type": "markdown",
      "source": [
        "4- Crie uma Strng de palavras e transforme em uma lista de palavras"
      ],
      "metadata": {
        "id": "1GlK7lrMzl5j"
      }
    },
    {
      "cell_type": "code",
      "source": [
        "string = \"Ana Beatriz Camila Daniel Eduarda Felipe\"\n",
        "lista = string.split()\n",
        "\n",
        "print(lista)"
      ],
      "metadata": {
        "id": "XTPtAUSxzstc",
        "colab": {
          "base_uri": "https://localhost:8080/"
        },
        "outputId": "acd78568-f9e0-4715-fb48-305b4b37cd0d"
      },
      "execution_count": 21,
      "outputs": [
        {
          "output_type": "stream",
          "name": "stdout",
          "text": [
            "['Ana', 'Beatriz', 'Camila', 'Daniel', 'Eduarda', 'Felipe']\n"
          ]
        }
      ]
    },
    {
      "cell_type": "markdown",
      "source": [
        "5- Replique o exercício refrente a aplicação de listas considerando um conjunto de dados com nome de times de futebol e suas respectivas pontuações "
      ],
      "metadata": {
        "id": "iX1NngsXztgN"
      }
    },
    {
      "cell_type": "code",
      "source": [
        "times_pontuacao = {\n",
        "    'Internacional':'20 pontos',\n",
        "    'Fluminence':'18 pontos',\n",
        "    'São Paulo':'17 pontos',\n",
        "    'Corinthians':'16 pontos',\n",
        "    'Gremio':'10 pontos'\n",
        "}\n",
        "\n",
        "times_pontuacao"
      ],
      "metadata": {
        "id": "sHUeQJuJz-SC",
        "colab": {
          "base_uri": "https://localhost:8080/"
        },
        "outputId": "9d1305b7-d58c-4f5c-c424-455e04345da1"
      },
      "execution_count": 9,
      "outputs": [
        {
          "output_type": "execute_result",
          "data": {
            "text/plain": [
              "{'Internacional': ' 20 pontos',\n",
              " 'Fluminence': '18 pontos',\n",
              " 'São Paulo': '17 pontos',\n",
              " 'Corinthians': '16 pontos',\n",
              " 'Gremio': '10 pontos'}"
            ]
          },
          "metadata": {},
          "execution_count": 9
        }
      ]
    }
  ]
}